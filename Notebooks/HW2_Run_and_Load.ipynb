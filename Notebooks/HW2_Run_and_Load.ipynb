{
  "nbformat": 4,
  "nbformat_minor": 0,
  "metadata": {
    "colab": {
      "provenance": []
    },
    "kernelspec": {
      "name": "python3",
      "display_name": "Python 3"
    },
    "language_info": {
      "name": "python"
    }
  },
  "cells": [
    {
      "cell_type": "code",
      "execution_count": null,
      "metadata": {
        "id": "gPA6gHLCo3wh",
        "colab": {
          "base_uri": "https://localhost:8080/"
        },
        "outputId": "9f8fbc45-cd76-4649-9364-1035f06f72e9"
      },
      "outputs": [
        {
          "output_type": "stream",
          "name": "stdout",
          "text": [
            "Requirement already satisfied: gensim in /usr/local/lib/python3.11/dist-packages (4.3.3)\n",
            "Requirement already satisfied: numpy<2.0,>=1.18.5 in /usr/local/lib/python3.11/dist-packages (from gensim) (1.26.4)\n",
            "Requirement already satisfied: scipy<1.14.0,>=1.7.0 in /usr/local/lib/python3.11/dist-packages (from gensim) (1.13.1)\n",
            "Requirement already satisfied: smart-open>=1.8.1 in /usr/local/lib/python3.11/dist-packages (from gensim) (7.1.0)\n",
            "Requirement already satisfied: wrapt in /usr/local/lib/python3.11/dist-packages (from smart-open>=1.8.1->gensim) (1.17.2)\n"
          ]
        }
      ],
      "source": [
        "!pip install gensim\n"
      ]
    },
    {
      "cell_type": "code",
      "source": [
        "from google.colab import drive\n",
        "drive.mount('/content/drive')"
      ],
      "metadata": {
        "colab": {
          "base_uri": "https://localhost:8080/"
        },
        "id": "dpWg9Di9Kfbe",
        "outputId": "0e511940-1ee3-4a16-ea52-00776cae306e"
      },
      "execution_count": null,
      "outputs": [
        {
          "output_type": "stream",
          "name": "stdout",
          "text": [
            "Mounted at /content/drive\n"
          ]
        }
      ]
    },
    {
      "cell_type": "code",
      "source": [
        "from gensim.models import Word2Vec\n",
        "import gensim.downloader as api\n",
        "\n",
        "# Load trained models\n",
        "cbow_model = Word2Vec.load(r\"/content/drive/MyDrive/HW2/cbow.model\")\n",
        "skipgram_model = Word2Vec.load(r\"/content/drive/MyDrive/HW2/skipgram.model\")\n",
        "\n",
        "print(\"Trained embeddings loaded successfully!\")\n",
        "\n",
        "# Load pre-trained GloVe embeddings (100-dimensional)\n",
        "glove_model = api.load(\"glove-wiki-gigaword-100\")\n",
        "print(\"GloVe embeddings loaded!\")\n"
      ],
      "metadata": {
        "colab": {
          "base_uri": "https://localhost:8080/"
        },
        "id": "IO_DVZnzN4F_",
        "outputId": "ab3cac0a-3bb8-4dfb-84ba-a2ac5e936531"
      },
      "execution_count": null,
      "outputs": [
        {
          "output_type": "stream",
          "name": "stdout",
          "text": [
            "Trained embeddings loaded successfully!\n",
            "GloVe embeddings loaded!\n"
          ]
        }
      ]
    },
    {
      "cell_type": "code",
      "source": [
        "# Load pre-trained FastText embeddings (300-dimensional) - full version\n",
        "fasttext_model = api.load(\"fasttext-wiki-news-subwords-300\")\n",
        "print(\"FastText embeddings loaded!\")"
      ],
      "metadata": {
        "colab": {
          "base_uri": "https://localhost:8080/"
        },
        "id": "2yHzQIIsN4SR",
        "outputId": "662b5fdb-ae93-4b0f-ddfa-5f7f4f6ce745"
      },
      "execution_count": null,
      "outputs": [
        {
          "output_type": "stream",
          "name": "stdout",
          "text": [
            "FastText embeddings loaded!\n"
          ]
        }
      ]
    },
    {
      "cell_type": "code",
      "source": [
        "def compare_vector_arithmetic(positive, negative, models):\n",
        "    results = {}\n",
        "    for name, model in models.items():\n",
        "        try:\n",
        "            results[name] = model.most_similar(positive=positive, negative=negative, topn=1)\n",
        "        except KeyError:\n",
        "            results[name] = \"Words not in vocabulary\"\n",
        "    return results\n",
        "\n",
        "# Business/Tech Vector Arithmetic Queries\n",
        "\n",
        "# Query 1: \"invest\" - \"risk\" + \"reward\"\n",
        "print(\"Query 1: 'invest' - 'risk' + 'return'\")\n",
        "print(compare_vector_arithmetic(positive=[\"invest\", \"return\"], negative=[\"risk\"], models=models))\n",
        "print(\"----------------------------------------------------\")\n",
        "\n",
        "# Query 2: \"technology\" - \"old\" + \"new\"\n",
        "print(\"Query 2: 'technology' - 'old' + 'new'\")\n",
        "print(compare_vector_arithmetic(positive=[\"technology\", \"new\"], negative=[\"old\"], models=models))\n",
        "print(\"----------------------------------------------------\")\n",
        "\n",
        "# Query 3: \"student\" - \"quit\" + \"graduate\"\n",
        "print(\"Query 3: 'student' - 'quit' + 'graduate'\")\n",
        "print(compare_vector_arithmetic(positive=[\"software\", \"graduate\"], negative=[\"quit\"], models=models))\n",
        "print(\"----------------------------------------------------\")\n",
        "\n",
        "# Query 4: \"profit\" - \"loss\" + \"growth\"\n",
        "print(\"Query 4: 'profit' - 'loss' + 'growth'\")\n",
        "print(compare_vector_arithmetic(positive=[\"profit\", \"growth\"], negative=[\"loss\"], models=models))\n",
        "print(\"----------------------------------------------------\")\n",
        "\n",
        "# Query 5: \"leader\" - \"male\" + \"female\"\n",
        "print(\"Query 5: 'leader' - 'male' + 'female'\")\n",
        "print(compare_vector_arithmetic(positive=[\"leader\", \"female\"], negative=[\"male\"], models=models))\n",
        "print(\"----------------------------------------------------\")\n"
      ],
      "metadata": {
        "colab": {
          "base_uri": "https://localhost:8080/"
        },
        "id": "50DAKjgo5GW0",
        "outputId": "7eb996b9-6956-493f-ac5a-f314f6df704c"
      },
      "execution_count": null,
      "outputs": [
        {
          "output_type": "stream",
          "name": "stdout",
          "text": [
            "Query 1: 'invest' - 'risk' + 'reward'\n",
            "{'CBOW': [('pay', 0.6269975304603577)], 'Skip-gram': [('buy', 0.5625247955322266)], 'GloVe': [('invested', 0.637974202632904)], 'FastText': [('reinvest', 0.6238330006599426)]}\n",
            "----------------------------------------------------\n",
            "Query 2: 'technology' - 'old' + 'new'\n",
            "{'CBOW': [('innovation', 0.5668476223945618)], 'Skip-gram': [('playability', 0.5604642033576965)], 'GloVe': [('technologies', 0.7700199484825134)], 'FastText': [('technologies', 0.7342677712440491)]}\n",
            "----------------------------------------------------\n",
            "Query 3: 'student' - 'quit' + 'graduate'\n",
            "{'CBOW': 'Words not in vocabulary', 'Skip-gram': 'Words not in vocabulary', 'GloVe': [('computer', 0.6472473740577698)], 'FastText': [('undergraduate', 0.631050705909729)]}\n",
            "----------------------------------------------------\n",
            "Query 4: 'profit' - 'loss' + 'growth'\n",
            "{'CBOW': [('economy', 0.6394561529159546)], 'Skip-gram': [('economy', 0.5914967060089111)], 'GloVe': [('profits', 0.692354142665863)], 'FastText': [('profits', 0.6474031209945679)]}\n",
            "----------------------------------------------------\n",
            "Query 5: 'leader' - 'male' + 'female'\n",
            "{'CBOW': [('member', 0.5371192097663879)], 'Skip-gram': [('panhellenic', 0.7169508337974548)], 'GloVe': [('party', 0.7375144958496094)], 'FastText': [('leaders', 0.7392967343330383)]}\n",
            "----------------------------------------------------\n"
          ]
        }
      ]
    },
    {
      "cell_type": "code",
      "source": [
        "pip install wefe==0.2.1"
      ],
      "metadata": {
        "colab": {
          "base_uri": "https://localhost:8080/"
        },
        "id": "UPfY61oDM-SQ",
        "outputId": "2ab2ce35-5e39-4f33-b74d-3183e5c98d5b"
      },
      "execution_count": null,
      "outputs": [
        {
          "output_type": "stream",
          "name": "stdout",
          "text": [
            "Requirement already satisfied: wefe==0.2.1 in /usr/local/lib/python3.11/dist-packages (0.2.1)\n",
            "Requirement already satisfied: numpy in /usr/local/lib/python3.11/dist-packages (from wefe==0.2.1) (1.26.4)\n",
            "Requirement already satisfied: scipy in /usr/local/lib/python3.11/dist-packages (from wefe==0.2.1) (1.13.1)\n",
            "Requirement already satisfied: scikit-learn in /usr/local/lib/python3.11/dist-packages (from wefe==0.2.1) (1.6.1)\n",
            "Requirement already satisfied: pandas in /usr/local/lib/python3.11/dist-packages (from wefe==0.2.1) (2.2.2)\n",
            "Requirement already satisfied: plotly in /usr/local/lib/python3.11/dist-packages (from wefe==0.2.1) (5.24.1)\n",
            "Requirement already satisfied: gensim in /usr/local/lib/python3.11/dist-packages (from wefe==0.2.1) (4.3.3)\n",
            "Requirement already satisfied: six in /usr/local/lib/python3.11/dist-packages (from wefe==0.2.1) (1.17.0)\n",
            "Requirement already satisfied: semantic-version in /usr/local/lib/python3.11/dist-packages (from wefe==0.2.1) (2.10.0)\n",
            "Requirement already satisfied: smart-open>=1.8.1 in /usr/local/lib/python3.11/dist-packages (from gensim->wefe==0.2.1) (7.1.0)\n",
            "Requirement already satisfied: python-dateutil>=2.8.2 in /usr/local/lib/python3.11/dist-packages (from pandas->wefe==0.2.1) (2.8.2)\n",
            "Requirement already satisfied: pytz>=2020.1 in /usr/local/lib/python3.11/dist-packages (from pandas->wefe==0.2.1) (2025.1)\n",
            "Requirement already satisfied: tzdata>=2022.7 in /usr/local/lib/python3.11/dist-packages (from pandas->wefe==0.2.1) (2025.1)\n",
            "Requirement already satisfied: tenacity>=6.2.0 in /usr/local/lib/python3.11/dist-packages (from plotly->wefe==0.2.1) (9.0.0)\n",
            "Requirement already satisfied: packaging in /usr/local/lib/python3.11/dist-packages (from plotly->wefe==0.2.1) (24.2)\n",
            "Requirement already satisfied: joblib>=1.2.0 in /usr/local/lib/python3.11/dist-packages (from scikit-learn->wefe==0.2.1) (1.4.2)\n",
            "Requirement already satisfied: threadpoolctl>=3.1.0 in /usr/local/lib/python3.11/dist-packages (from scikit-learn->wefe==0.2.1) (3.5.0)\n",
            "Requirement already satisfied: wrapt in /usr/local/lib/python3.11/dist-packages (from smart-open>=1.8.1->gensim->wefe==0.2.1) (1.17.2)\n"
          ]
        }
      ]
    },
    {
      "cell_type": "code",
      "source": [
        "import numpy as np\n",
        "import pandas as pd\n",
        "from gensim.models import Word2Vec\n",
        "import gensim.downloader as api\n",
        "\n",
        "# Load self-trained models (update paths as needed)\n",
        "cbow_model = Word2Vec.load(r\"/content/drive/MyDrive/HW2/cbow.model\")\n",
        "skipgram_model = Word2Vec.load(r\"/content/drive/MyDrive/HW2/skipgram.model\")\n",
        "\n",
        "# Load pre-trained embeddings via Gensim downloader\n",
        "glove_model = api.load(\"glove-wiki-gigaword-100\")\n",
        "fasttext_model = api.load(\"fasttext-wiki-news-subwords-300\")  # Already a KeyedVectors object\n",
        "\n",
        "# Organize the models into a dictionary\n",
        "models = {\n",
        "    \"CBOW\": cbow_model.wv,\n",
        "    \"Skip-gram\": skipgram_model.wv,\n",
        "    \"GloVe\": glove_model,\n",
        "    \"FastText\": fasttext_model\n",
        "}\n",
        "\n",
        "def compute_rnsb(model, target1, target2, attribute1, attribute2):\n",
        "    \"\"\"\n",
        "    Compute a simple Relative Norm Bias score.\n",
        "\n",
        "    Parameters:\n",
        "      - model: a gensim KeyedVectors model.\n",
        "      - target1: list of words (e.g., male terms).\n",
        "      - target2: list of words (e.g., female terms).\n",
        "      - attribute1: list of attribute words for one group (e.g., leadership attributes).\n",
        "      - attribute2: list of attribute words for the other group (e.g., subordinate attributes).\n",
        "\n",
        "    The attribute baseline is defined as the average of the embeddings in attribute1 and attribute2.\n",
        "    Then, the bias score is calculated as:\n",
        "\n",
        "         100 * (avg_norm(target1) - avg_norm(target2)) / (avg_norm(target1) + avg_norm(target2))\n",
        "\n",
        "    where avg_norm(targetX) is the average Euclidean distance of each target word from the attribute baseline.\n",
        "    \"\"\"\n",
        "    # Filter words to those present in the model's vocabulary\n",
        "    target1_vecs = [model[word] for word in target1 if word in model]\n",
        "    target2_vecs = [model[word] for word in target2 if word in model]\n",
        "    attr1_vecs = [model[word] for word in attribute1 if word in model]\n",
        "    attr2_vecs = [model[word] for word in attribute2 if word in model]\n",
        "\n",
        "    if not target1_vecs or not target2_vecs or not attr1_vecs or not attr2_vecs:\n",
        "        raise ValueError(\"One of the sets has no words in the model's vocabulary.\")\n",
        "\n",
        "    # Compute the attribute baseline as the average of attribute1 and attribute2 vectors\n",
        "    attr_baseline = np.mean(attr1_vecs + attr2_vecs, axis=0)\n",
        "\n",
        "    # Compute the average Euclidean norm for each target set relative to the attribute baseline\n",
        "    norms_target1 = [np.linalg.norm(vec - attr_baseline) for vec in target1_vecs]\n",
        "    norms_target2 = [np.linalg.norm(vec - attr_baseline) for vec in target2_vecs]\n",
        "\n",
        "    avg_norm1 = np.mean(norms_target1)\n",
        "    avg_norm2 = np.mean(norms_target2)\n",
        "\n",
        "    # Compute the relative norm bias score\n",
        "    rnsb_score = 100 * (avg_norm1 - avg_norm2) / (avg_norm1 + avg_norm2)\n",
        "    return rnsb_score\n",
        "\n",
        "# Define query parameters (example: testing leadership gender bias)\n",
        "target_1 = [\"man\", \"male\", \"gentleman\"]\n",
        "target_2 = [\"woman\", \"female\", \"lady\"]\n",
        "attribute_1 = [\"leader\", \"director\", \"executive\"]\n",
        "attribute_2 = [\"follower\", \"employee\", \"subordinate\"]\n",
        "\n",
        "# Compute RNSB for each model\n",
        "results = {}\n",
        "for model_name, model in models.items():\n",
        "    try:\n",
        "        score = compute_rnsb(model, target_1, target_2, attribute_1, attribute_2)\n",
        "        results[model_name] = score\n",
        "    except Exception as e:\n",
        "        results[model_name] = f\"Error: {e}\"\n",
        "\n",
        "# Convert results to a DataFrame and display them\n",
        "df_results = pd.DataFrame.from_dict(results, orient=\"index\", columns=[\"RNSB Score\"])\n",
        "print(\"RNSB Scores:\")\n",
        "print(df_results)\n"
      ],
      "metadata": {
        "colab": {
          "base_uri": "https://localhost:8080/"
        },
        "id": "I1BGyXbZM-bm",
        "outputId": "5c932916-dfd4-4463-f700-d7d1b8bfbe12"
      },
      "execution_count": null,
      "outputs": [
        {
          "output_type": "stream",
          "name": "stdout",
          "text": [
            "RNSB Scores:\n",
            "           RNSB Score\n",
            "CBOW       -11.402394\n",
            "Skip-gram   -1.096881\n",
            "GloVe       -2.926885\n",
            "FastText     0.633558\n"
          ]
        }
      ]
    }
  ]
}